{
 "cells": [
  {
   "cell_type": "markdown",
   "metadata": {},
   "source": [
    "# Lensing Your Selfie Code Activity\n",
    "\n",
    "\n",
    "In this activity, we will be using Python code to simulate the warping of spacetime by massive objects like blackholes and explore how gravitational lensing effects distort our perception of objects in outer space."
   ]
  },
  {
   "cell_type": "code",
   "execution_count": 1,
   "metadata": {},
   "outputs": [],
   "source": [
    "import sys\n",
    "import math  # import useful functions and constants\n",
    "import time  # this module is used to check computation time\n",
    "import os.path  # this module is used to search for files on the computer"
   ]
  },
  {
   "cell_type": "code",
   "execution_count": 2,
   "metadata": {},
   "outputs": [],
   "source": [
    "from scipy.constants import pi  # 3.141592653589793\n",
    "from scipy.constants import c  # Speed light vacuum = 299792458 m/s\n",
    "from scipy.constants import G  # Newton constant = 6.67408e-11 m3/Kg/s2\n",
    "from scipy.constants import au  # sun-earth distance m = 149597870691 m"
   ]
  },
  {
   "cell_type": "code",
   "execution_count": 19,
   "metadata": {},
   "outputs": [],
   "source": [
    "import bh_math"
   ]
  },
  {
   "cell_type": "code",
   "execution_count": 26,
   "metadata": {},
   "outputs": [],
   "source": [
    "img_name = os.path.join('imagesz', 'milkyway')"
   ]
  },
  {
   "cell_type": "code",
   "execution_count": null,
   "metadata": {},
   "outputs": [],
   "source": [
    "blackhole.img_name = img_name"
   ]
  },
  {
   "cell_type": "code",
   "execution_count": 27,
   "metadata": {
    "scrolled": true
   },
   "outputs": [
    {
     "name": "stdout",
     "output_type": "stream",
     "text": [
      "Openning images/milkyway.jpg\n",
      "size 360x180 pixels\n",
      "\n"
     ]
    }
   ],
   "source": [
    "blackhole = bh_math.BlackHole()"
   ]
  },
  {
   "cell_type": "code",
   "execution_count": null,
   "metadata": {},
   "outputs": [],
   "source": []
  }
 ],
 "metadata": {
  "kernelspec": {
   "display_name": "Python 3",
   "language": "python",
   "name": "python3"
  },
  "language_info": {
   "codemirror_mode": {
    "name": "ipython",
    "version": 3
   },
   "file_extension": ".py",
   "mimetype": "text/x-python",
   "name": "python",
   "nbconvert_exporter": "python",
   "pygments_lexer": "ipython3",
   "version": "3.8.3"
  }
 },
 "nbformat": 4,
 "nbformat_minor": 4
}
