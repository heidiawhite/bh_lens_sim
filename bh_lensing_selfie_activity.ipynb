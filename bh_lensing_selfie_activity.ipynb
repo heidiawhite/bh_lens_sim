{
 "cells": [
  {
   "cell_type": "markdown",
   "metadata": {},
   "source": [
    "<img src=\"images/blackhole.jpg\" alt=\"drawing\" width=\"500\"/>\n",
    "<center>Gargantua, the super massive black hole from the film \"Interstellar\" - Paramount (2014)</center>\n",
    "\n",
    "# \"Lensing Your Selfie\" Code Activity\n",
    "\n",
    "_______________________________________________________________\n",
    "\n",
    "## Section I - Introduction\n",
    "\n",
    "In this classroom activity, we will be using Python code to simulate the curvature of spacetime by massive objects like blackholes and explore how gravitational lensing effects distort our perception of objects in outer space.\n",
    "\n",
    "Specifically, we will explore:\n",
    "* the relationship between a black hole's Schwarzchild radius and it's mass.\n",
    "* how a black hole's gravitational field can magnify and distort images of objects in space\n",
    "* how the properties of a black hole determines its magnifying power\n",
    "* how to edit and run simple Python-language scripts"
   ]
  },
  {
   "cell_type": "markdown",
   "metadata": {},
   "source": [
    "## Section II - Getting Started with Python\n",
    "\n",
    "Let's begin by first exploring how to use this interactive Python notebook.\n",
    "\n",
    "Python notebooks contain different sections within them called **cells**. These cells are useful because they allow us to break up long stretches of code into smaller pieces which we can execute in steps.\n",
    "\n",
    "The text you're currently reading is written inside what we call a **markdown cell**. These types of cells provide space for creating easy-to-read, easy-to-write plain text."
   ]
  },
  {
   "cell_type": "code",
   "execution_count": null,
   "metadata": {},
   "outputs": [],
   "source": [
    "#    This is an example of a 'code cell'. You probably notice the text looks different in this type of cell.\n",
    "\n",
    "#    'Code cells' are sections of our notebook where we can write and edit pieces of Python code.\n",
    "\n",
    "#    Using Python code allows us to complete different calculations and tasks."
   ]
  },
  {
   "cell_type": "markdown",
   "metadata": {},
   "source": [
    "The code and text within notebook cells can be edited by double-clicking within the cell and modifying the text.\n",
    "\n",
    "Then, individual cells themselves can be executed or \"run\" by pressing Cmd + Return (for Macs) or Alt + Return (for PCs) on the keyboard. Let's try an example now."
   ]
  },
  {
   "cell_type": "markdown",
   "metadata": {},
   "source": [
    "Double-click on this cell and edit the text to complete the information fields below:\n",
    "\n",
    "* **Student Name:** \n",
    "\n",
    "* **Today's Date:**\n",
    "\n",
    "When you're done, run the cell using the Cmd/Alt + Return sequence on your keyboard."
   ]
  },
  {
   "cell_type": "code",
   "execution_count": null,
   "metadata": {},
   "outputs": [],
   "source": [
    "#   We can complete this very same task using a code cell. Here's we will set two parameters (MY_NAME & DATE)\n",
    "#   and run a simple print command to output your name and today's date.\n",
    "\n",
    "MY_NAME = '-fill in your name here-'\n",
    "DATE = '-fill in todays date here-'\n",
    "\n",
    "#   Edit the text within the quotes above with your information to 'set' \n",
    "#   the value of the name and date parameters above.\n",
    "#   Then run this code to check the output.\n",
    "\n",
    "print('Student Name: '+MY_NAME)\n",
    "print('Today\\'s Date: '+DATE)"
   ]
  },
  {
   "cell_type": "markdown",
   "metadata": {},
   "source": [
    "You should now see your name and today's date listed as the **output** of the above code cell. Great job! 🎉\n",
    "\n",
    "Now let's explore the structure of Python scripts.\n",
    "\n",
    "Python scripts are essentially collections of Python code that work together to complete tasks. Most Python scripts begin by importing **modules**. Modules are code files containing useful functions and values that will need to be called by the script as it runs. \n",
    "\n",
    "Let's begin our code by importing modules that will allow us to access other files stored in the folder containing this notebook.\n",
    "\n",
    "Run the code cell below to import some modules we will be using for this black hole activity today. If the cell outputs the value for the speed of light, your modules imported correctly!"
   ]
  },
  {
   "cell_type": "code",
   "execution_count": null,
   "metadata": {},
   "outputs": [],
   "source": [
    "import sys\n",
    "import math  # import useful functions and constants\n",
    "import time  # this module is used to check computation time\n",
    "import os.path  # this module is used to search for files on the computer\n",
    "\n",
    "from scipy.constants import pi  # 3.141592653589793\n",
    "from scipy.constants import G   # Newton's constant\n",
    "from scipy.constants import au  # The distance between the Earth and the Sun\n",
    "from scipy.constants import c   # Speed light in a vacuum\n",
    "\n",
    "print('The speed of light is '+str(c)+' meters per second.')"
   ]
  },
  {
   "cell_type": "markdown",
   "metadata": {},
   "source": [
    "## Section III - How do we describe black holes?\n",
    "\n",
    "One way of Gravity is the curvature of the universe, caused by massive bodies, which determines the path that objects travel. Spacetime is curved around all objects with mass.\n",
    "\n",
    "<img src=\"images/bh_diagram.jpg\" alt=\"drawing\" width=\"500\"/>\n",
    "<center><u>Figure 1</u></center>\n",
    "\n",
    "The **Schwarzchild radius** is not a physical boundary or surface. It instead maps out a region around a black hole called the **event horizon**. Anything that passes through a black hole's event horizon is forever trapped by the powerful gravitational forces of a black hole. This is because within the event horizon the force of gravity is so strong that the speed required to escape a black hole is greater than the Universal speed limit - the speed of light. \n",
    "\n",
    "Special relativity predicts that:\n",
    "\n",
    "$$r_{S} = \\frac{2\\ G\\ M}{c^{2}}$$\n",
    "\n",
    "\n",
    "where:\n",
    "<br />\n",
    "\n",
    "$$r_{S}\\ \\rm = the\\ Schwarzchild\\ radius$$\n",
    "$$G \\rm\\ =\\ the\\ gravitational\\ constant$$\n",
    "$$M \\rm\\ =\\ the\\ mass\\ of\\ the\\ blackhole$$\n",
    "$$c \\rm\\ =\\ the\\ speed\\ of\\ light$$\n",
    "<br />\n",
    "\n",
    "This means that there is a direct relationship between a black hole's **mass** and the **size** of its event horizon. \n",
    "\n",
    "The speed of light (_c_) and the gravitational constant (_G_) are just numbers that always have the same value. This means that in the equation above, the only two values that change are the mass and radius. \n",
    "\n",
    "<!--- Another way of saying and writing this is:\n",
    "\n",
    "$$r_{s} \\propto M$$\n",
    "\n",
    "or \"the radius of a black hole's event horizon is proportional to it's mass\". --->\n",
    "\n",
    "Because light rays passing at or within the event horizon get caught and cannot escape, the region of space surrounding the black hole is a dark (or light-less) disk. \n",
    "\n",
    "Light rays that pass a little further away are able to escape the black hole but their travel paths get curved or bent by the black hole's powerful gravity. Below is an example of light from a background galaxy being deflected by a black holes gravity as it travels to our eyes.<!--- This makes the images of object nearby massive objects in space appear distorted. It also produces multiple images. You would see two duplicate images of the same star on opposite sides of the black hole, because light rays passing the black hole on either side get bent toward you. In fact, there are infinitely many images of each star, corresponding to light rays that circle the black hole several times before coming toward you.---> \n",
    "<img src=\"images/lens_diagram.jpg\" alt=\"drawing\" width=\"600\"/>\n",
    "<center><u>Figure 2</u></center>\n",
    "\n",
    "\n",
    "Amazingly, Einstein's theory of general relativity predicts that the paths of nearby light rays bend in response to *every* object with mass (and, therefore, gravity)! \n",
    "\n",
    "This effect influencing how light travels through space is called **gravitational lensing**. \n",
    "\n",
    "For our Sun this effect is very weak, but it has been measured. We have been able to observe very strong lensing effects caused by extremely massive and distant objects in the Universe (such as giant clusters of galaxies). To date, it has not yet been possible to observe this effect caused by a single black hole.\n",
    "\n",
    "We can, however, use computer programs powered by the laws of physics to simulate gravitational lensing effects. So - let's go!"
   ]
  },
  {
   "cell_type": "markdown",
   "metadata": {},
   "source": [
    "## Section IV - Simulating Black Holes Lenses\n",
    "\n",
    "First, run the cell below to import our gravitational lens simulator. This program will be used to model our black hole lens."
   ]
  },
  {
   "cell_type": "code",
   "execution_count": null,
   "metadata": {},
   "outputs": [],
   "source": [
    "import bh_math"
   ]
  },
  {
   "cell_type": "markdown",
   "metadata": {},
   "source": [
    "Now, snap a selfie using your phone or a camera! 📸\n",
    "\n",
    "Upload the image file to the folder titled 'images' in the Google Drive folder with these notebook files. \n",
    "\n",
    "After you've done that, edit the cell below to update the value for *myimage* with the name of your image file, and run the cell."
   ]
  },
  {
   "cell_type": "code",
   "execution_count": null,
   "metadata": {},
   "outputs": [],
   "source": [
    "myimage = 'test.jpg'"
   ]
  },
  {
   "cell_type": "markdown",
   "metadata": {},
   "source": [
    "Next, run the cell below to turn the simulator on and get it running."
   ]
  },
  {
   "cell_type": "code",
   "execution_count": null,
   "metadata": {
    "scrolled": false
   },
   "outputs": [],
   "source": [
    "blackhole = bh_math.BlackHole()"
   ]
  },
  {
   "cell_type": "markdown",
   "metadata": {},
   "source": [
    "Now, run the cell below to load your selfie into the simulator!\n",
    "\n",
    "If your selfie loaded properly, you should see a copy of it displayed in the output."
   ]
  },
  {
   "cell_type": "code",
   "execution_count": null,
   "metadata": {},
   "outputs": [],
   "source": [
    "img_name = os.path.join('images', myimage)\n",
    "blackhole.open(img_name, size=1000)"
   ]
  },
  {
   "cell_type": "markdown",
   "metadata": {},
   "source": [
    "Our perception of the black hole lensing effect depends on two main factors:\n",
    "\n",
    "* how massive/big our black hole will be\n",
    "* how far away we are positioned from the black hole\n",
    "\n",
    "As we saw earlier in this notebook, a black hole's mass and Schwarzchild radius are very closely linked. We can therefore use the radius of the black hole as a way of representing it's size. \n",
    "\n",
    "It is typically convenient to use everyday units to describe the vast distances in space - and this includes when we talk about black holes. Astronomers often use standard measurements, like the distance between the Earth and the Sun, as more convenient units for distances in outer space.\n",
    "\n",
    "This distance is what is known as an **Astronomical Unit** or an **AU**. For example, 2 AU means \"two times the distance between the Earth and Sun\".\n",
    "\n",
    "To start off our simulator, let's generate a black hole with a Schwarzchild radius (Rs) of 8 AU viewed at a distance of 50 AU."
   ]
  },
  {
   "cell_type": "code",
   "execution_count": null,
   "metadata": {},
   "outputs": [],
   "source": [
    "Rs = 8 #AU\n",
    "D = 50 #AU"
   ]
  },
  {
   "cell_type": "markdown",
   "metadata": {},
   "source": [
    "Now, let's feed these two values into our simulator and generate our black hole lens image!"
   ]
  },
  {
   "cell_type": "code",
   "execution_count": null,
   "metadata": {},
   "outputs": [],
   "source": [
    "blackhole.compute(Rs, D)"
   ]
  },
  {
   "cell_type": "markdown",
   "metadata": {},
   "source": [
    "### How has gravitational lensing from the black hole changed your perception of your background selfie image? \n",
    "\n",
    "Where does the greatest amount of distortion occur? Can you connect the diagram in Figure 2 to what we generate in our simulator?\n",
    "\n",
    "(Edit the cell below to record your responses.)\n",
    "\n",
    "----"
   ]
  },
  {
   "cell_type": "markdown",
   "metadata": {},
   "source": [
    "**Student Response:** "
   ]
  },
  {
   "cell_type": "markdown",
   "metadata": {},
   "source": [
    "-----\n",
    "\n",
    "Try varying the values of these two quantities by editing their assigned values in the cell below.\n",
    "\n",
    "Try a handful of different variations."
   ]
  },
  {
   "cell_type": "code",
   "execution_count": null,
   "metadata": {},
   "outputs": [],
   "source": [
    "Rs = 1 #AU\n",
    "D = 100 #AU\n",
    "\n",
    "blackhole.compute(Rs, D)"
   ]
  },
  {
   "cell_type": "markdown",
   "metadata": {},
   "source": [
    "### How does changing the radius and viewing distance change the lensing effect from your black hole?\n",
    "\n",
    "\n",
    "-----------------------------------"
   ]
  },
  {
   "cell_type": "markdown",
   "metadata": {},
   "source": [
    "**Student Response:**"
   ]
  },
  {
   "cell_type": "markdown",
   "metadata": {},
   "source": [
    "-----------------------------------\n",
    "\n",
    "It's always important to save our work! Run the cell below to save a copy of your lensed selfie in the \"images\" folder."
   ]
  },
  {
   "cell_type": "code",
   "execution_count": null,
   "metadata": {},
   "outputs": [],
   "source": [
    "save_name = os.path.join('images', 'lensed_'+myimage)\n",
    "blackhole.img2.save(save_name)"
   ]
  },
  {
   "cell_type": "markdown",
   "metadata": {},
   "source": [
    "Our simulator also allows us to save an animated GIF of the black hole moving across our field of view.\n",
    "\n",
    "Run the code in the cell below to save a movie! 🎦"
   ]
  },
  {
   "cell_type": "code",
   "execution_count": null,
   "metadata": {},
   "outputs": [],
   "source": [
    "import imageio\n",
    "import glob\n",
    "from PIL import Image\n",
    "\n",
    "fixed_background = True\n",
    "blackhole.gif(20)\n",
    "\n",
    "#my_img_name = '%s_D=%s_Rs=%s' % (img_name, D, Rs)\n",
    "offset_list = glob.glob('*.jpg')\n",
    "offset_list.sort()\n",
    "\n",
    "offset_frames = []\n",
    "for file in offset_list:\n",
    "    offset_frames.append(imageio.imread(file))\n",
    "imageio.mimsave(\"movingBH.gif\", offset_frames)\n",
    "\n",
    "print('GIF file saved in /images/!')\n",
    "\n",
    "im = Image.open('movingBH.gif')"
   ]
  },
  {
   "cell_type": "markdown",
   "metadata": {},
   "source": [
    "You can view the GIF by loading the file into most web browsers.\n",
    "\n",
    "Examine how the distortion of your selfie changes over time as the black hole zips across the image.\n",
    "\n",
    "### What do you see? When is a point in the background image *most* distorted?\n",
    "\n",
    "----"
   ]
  },
  {
   "cell_type": "markdown",
   "metadata": {},
   "source": [
    "**Student Response:**"
   ]
  },
  {
   "cell_type": "markdown",
   "metadata": {},
   "source": [
    "----"
   ]
  }
 ],
 "metadata": {
  "kernelspec": {
   "display_name": "Python 3",
   "language": "python",
   "name": "python3"
  },
  "language_info": {
   "codemirror_mode": {
    "name": "ipython",
    "version": 3
   },
   "file_extension": ".py",
   "mimetype": "text/x-python",
   "name": "python",
   "nbconvert_exporter": "python",
   "pygments_lexer": "ipython3",
   "version": "3.8.3"
  }
 },
 "nbformat": 4,
 "nbformat_minor": 4
}
