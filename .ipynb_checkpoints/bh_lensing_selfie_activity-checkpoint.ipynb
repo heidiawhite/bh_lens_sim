{
 "cells": [
  {
   "cell_type": "markdown",
   "metadata": {},
   "source": [
    "# \"Lensing Your Selfie\" Code Activity\n",
    "\n",
    "\n",
    "In this activity, we will be using Python code to simulate the warping of spacetime by massive objects like blackholes and explore how gravitational lensing effects distort our perception of objects in outer space."
   ]
  },
  {
   "cell_type": "code",
   "execution_count": 20,
   "metadata": {},
   "outputs": [],
   "source": [
    "import sys\n",
    "import math  # import useful functions and constants\n",
    "import time  # this module is used to check computation time\n",
    "import os.path  # this module is used to search for files on the computer"
   ]
  },
  {
   "cell_type": "code",
   "execution_count": null,
   "metadata": {},
   "outputs": [],
   "source": [
    "from scipy.constants import pi  # 3.141592653589793\n",
    "from scipy.constants import c  # Speed light vacuum = 299792458 m/s\n",
    "from scipy.constants import G  # Newton constant = 6.67408e-11 m3/Kg/s2\n",
    "from scipy.constants import au  # sun-earth distance m = 149597870691 m"
   ]
  },
  {
   "cell_type": "code",
   "execution_count": null,
   "metadata": {},
   "outputs": [],
   "source": [
    "import bh_math"
   ]
  },
  {
   "cell_type": "code",
   "execution_count": null,
   "metadata": {},
   "outputs": [],
   "source": [
    "blackhole = bh_math.BlackHole()\n",
    "img_name = os.path.join('images', 'test.jpg')\n",
    "blackhole.open(img_name, size=1000)\n",
    "blackhole.compute(Rs=8, D=50)"
   ]
  }
 ],
 "metadata": {
  "kernelspec": {
   "display_name": "Python 3",
   "language": "python",
   "name": "python3"
  },
  "language_info": {
   "codemirror_mode": {
    "name": "ipython",
    "version": 3
   },
   "file_extension": ".py",
   "mimetype": "text/x-python",
   "name": "python",
   "nbconvert_exporter": "python",
   "pygments_lexer": "ipython3",
   "version": "3.8.3"
  }
 },
 "nbformat": 4,
 "nbformat_minor": 4
}
